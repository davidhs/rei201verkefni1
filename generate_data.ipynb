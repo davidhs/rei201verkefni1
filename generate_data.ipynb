{
 "cells": [
  {
   "cell_type": "code",
   "execution_count": null,
   "metadata": {
    "collapsed": true,
    "deletable": true,
    "editable": true
   },
   "outputs": [],
   "source": [
    "%matplotlib inline"
   ]
  },
  {
   "cell_type": "code",
   "execution_count": null,
   "metadata": {
    "collapsed": false,
    "deletable": true,
    "editable": true
   },
   "outputs": [],
   "source": [
    "import numpy as np\n",
    "import scipy.ndimage  # notum þetta fyrir myndir\n",
    "import glob  # Notað til að finna skrár.\n",
    "\n",
    "from prog import *  # Allt draslið er hér!\n",
    "\n",
    "# HLUTI 1\n",
    "albums = [load_image_as_arr(path) for path in glob.glob('albums/*.jpg')]\n",
    "\n",
    "# HLUTI 2\n",
    "A_images = np.load(\"mnist/A_images.npy\")\n",
    "A_labels = np.load(\"mnist/A_labels.npy\")\n",
    "B_images = np.load(\"mnist/B_images.npy\")\n",
    "B_labels = np.load(\"mnist/B_labels.npy\")\n",
    "\n",
    "# Búum hér sífellt til bundle og vistum út í skrá\n",
    "while True:\n",
    "    generate_data_part1(albums)\n",
    "    for i in range(len(albums)):\n",
    "        get_best_bundle(glob.glob('_ignore/bundle-*.npy'), str(i), do_filter=True)\n",
    "    generate_data_part2(A_images)\n",
    "    get_best_bundle(glob.glob('_ignore/bundle-*.npy'), \"10\", do_filter=True)\n",
    "    get_best_bundle(glob.glob('_ignore/bundle-*.npy'), \"20\", do_filter=True)\n",
    "    get_best_bundle(glob.glob('_ignore/bundle-*.npy'), \"30\", do_filter=True)"
   ]
  }
 ],
 "metadata": {
  "kernelspec": {
   "display_name": "Python 3",
   "language": "python",
   "name": "python3"
  },
  "language_info": {
   "codemirror_mode": {
    "name": "ipython",
    "version": 3
   },
   "file_extension": ".py",
   "mimetype": "text/x-python",
   "name": "python",
   "nbconvert_exporter": "python",
   "pygments_lexer": "ipython3",
   "version": "3.6.0"
  }
 },
 "nbformat": 4,
 "nbformat_minor": 2
}
