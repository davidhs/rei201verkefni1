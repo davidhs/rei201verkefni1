{
 "cells": [
  {
   "cell_type": "markdown",
   "metadata": {
    "deletable": true,
    "editable": true
   },
   "source": [
    "# Verkefni 1\n",
    "\n",
    "Davíð Helgason  (dah38@hi.is)\n",
    "\n",
    "Hieu\n",
    "\n",
    "Hreiðar"
   ]
  },
  {
   "cell_type": "code",
   "execution_count": null,
   "metadata": {
    "collapsed": true,
    "deletable": true,
    "editable": true
   },
   "outputs": [],
   "source": [
    "%matplotlib inline\n",
    "import matplotlib\n",
    "import numpy as np\n",
    "import matplotlib.pyplot as plt\n",
    "import scipy.ndimage # notum þetta fyrir myndir\n",
    "\n",
    "import datetime # Notað til að mæla tímamismun.\n",
    "import kmeans # Staðbundin skrá, fyrir k-means\n",
    "import math # Stærðfræði\n",
    "import glob # Notað til að finna skrár.\n",
    "\n",
    "# Allt draslið er hér!\n",
    "from prog import *"
   ]
  },
  {
   "cell_type": "markdown",
   "metadata": {
    "deletable": true,
    "editable": true
   },
   "source": [
    "Hugtök\n",
    "* centroid = þungamiðja, þyngdarpunktur, miðpunktur\n",
    "* label = merki"
   ]
  },
  {
   "cell_type": "markdown",
   "metadata": {},
   "source": [
    "Gögnin"
   ]
  },
  {
   "cell_type": "markdown",
   "metadata": {
    "deletable": true,
    "editable": true
   },
   "source": [
    "## Fyrri hluti"
   ]
  },
  {
   "cell_type": "markdown",
   "metadata": {
    "collapsed": true,
    "deletable": true,
    "editable": true
   },
   "source": [
    "Gögnin"
   ]
  },
  {
   "cell_type": "code",
   "execution_count": null,
   "metadata": {
    "collapsed": false,
    "deletable": true,
    "editable": true
   },
   "outputs": [],
   "source": [
    "albums = [load_image_as_arr(path) for path in glob.glob('albums/*.jpg')]\n",
    "\n",
    "if False:\n",
    "    for album in albums:\n",
    "        display_arr(album)"
   ]
  },
  {
   "cell_type": "markdown",
   "metadata": {
    "collapsed": true,
    "deletable": true,
    "editable": true
   },
   "source": [
    "## Seinni hluti"
   ]
  },
  {
   "cell_type": "markdown",
   "metadata": {},
   "source": [
    "Gögnin"
   ]
  },
  {
   "cell_type": "code",
   "execution_count": null,
   "metadata": {
    "collapsed": true
   },
   "outputs": [],
   "source": [
    "A_images = np.load(\"mnist/A_images.npy\")\n",
    "A_labels = np.load(\"mnist/A_labels.npy\")\n",
    "\n",
    "B_images = np.load(\"mnist/B_images.npy\")\n",
    "B_labels = np.load(\"mnist/B_labels.npy\")"
   ]
  },
  {
   "cell_type": "markdown",
   "metadata": {
    "deletable": true,
    "editable": true
   },
   "source": [
    "Verkferli\n",
    "\n",
    "* (valfrjálst) skiptum inntakinu í 2 hluti, 90% til þjálfunar og 10% til að prófa\n",
    "* Gera myndirnar (fylkið) tilbúnnar fyrir k-means\n",
    "    * Fáum shape = (N, 28, 28) þar sem N er fjöldi mynda, viljum fá shape = (784, N)\n",
    "    * Hver mynd verður að 784-vigri (28 x 28 = 784)\n",
    "    * Notum:\n",
    "        * reshape\n",
    "        * transpose\n",
    "        * etc..\n",
    "* Þegar myndirnar eru orðnar tilbúnnar keyrum við k-means fyrir\n",
    "    * k = 10, k = 20 og k = 30\n",
    "* Fáum centroid fylki sem er shape (784, k)\n",
    "* Breytum fulltrúunum (centroids) aftur í myndir, fáum k myndir, eina fyrir hvern fulltrúa.\n",
    "* Þurfum að finna út hvaða merki (e. labels) hver þungamiðjupunktur (e. centroid) er fulltrúi fyrir.\n",
    "    * Skoða hvaða myndir tilheyra þyrpingunni.\n",
    "    * Mæla fjarlægðir milli hvers vigurs og þungamiðjupunkts og þannig gefa því merki samkvæmt því.\n",
    "* Nota fulltrúanna til að greina myndirnar í test menginu og mæla villu í prósentum.\n",
    "* Randome-a röðun á myndum?"
   ]
  },
  {
   "cell_type": "code",
   "execution_count": null,
   "metadata": {
    "collapsed": false,
    "deletable": true,
    "editable": true
   },
   "outputs": [],
   "source": [
    "bundle_2_paths = glob.glob('_ignore/bundle2/bundle-*.npy')\n",
    "\n",
    "bundle10 = get_best_bundle(bundle_2_paths, \"10\")\n",
    "bundle20 = get_best_bundle(bundle_2_paths, \"20\")\n",
    "bundle30 = get_best_bundle(bundle_2_paths, \"30\")\n"
   ]
  },
  {
   "cell_type": "code",
   "execution_count": null,
   "metadata": {
    "collapsed": false,
    "deletable": true,
    "editable": true
   },
   "outputs": [],
   "source": [
    "if True:\n",
    "    test_bundle(bundle10, A_images, A_labels)"
   ]
  },
  {
   "cell_type": "code",
   "execution_count": null,
   "metadata": {
    "collapsed": false,
    "deletable": true,
    "editable": true
   },
   "outputs": [],
   "source": [
    "if False:\n",
    "    test_bundle(bundle20, A_images, A_labels)"
   ]
  },
  {
   "cell_type": "code",
   "execution_count": null,
   "metadata": {
    "collapsed": false,
    "deletable": true,
    "editable": true
   },
   "outputs": [],
   "source": [
    "if False:\n",
    "    test_bundle(bundle30, A_images, A_labels)"
   ]
  },
  {
   "cell_type": "code",
   "execution_count": null,
   "metadata": {
    "collapsed": false,
    "deletable": true,
    "editable": true
   },
   "outputs": [],
   "source": [
    "# Plot number of iterations and total loss (error) at each point\n",
    "#plt.plot(range(0, len(losses)), losses)\n"
   ]
  },
  {
   "cell_type": "code",
   "execution_count": null,
   "metadata": {
    "collapsed": false,
    "deletable": true,
    "editable": true
   },
   "outputs": [],
   "source": [
    "#test(bundles[0], the_images, the_labels)"
   ]
  },
  {
   "cell_type": "code",
   "execution_count": null,
   "metadata": {
    "collapsed": false,
    "deletable": true,
    "editable": true
   },
   "outputs": [],
   "source": [
    "#test(the_images, the_labels, 20)"
   ]
  },
  {
   "cell_type": "code",
   "execution_count": null,
   "metadata": {
    "collapsed": false,
    "deletable": true,
    "editable": true
   },
   "outputs": [],
   "source": [
    "#test(the_images, the_labels, 30)"
   ]
  },
  {
   "cell_type": "markdown",
   "metadata": {
    "collapsed": false,
    "deletable": true,
    "editable": true
   },
   "source": [
    "## Búa til gögn"
   ]
  },
  {
   "cell_type": "markdown",
   "metadata": {},
   "source": [
    "Skoða skránna `generate_data.ipynb`."
   ]
  }
 ],
 "metadata": {
  "kernelspec": {
   "display_name": "Python 3",
   "language": "python",
   "name": "python3"
  },
  "language_info": {
   "codemirror_mode": {
    "name": "ipython",
    "version": 3
   },
   "file_extension": ".py",
   "mimetype": "text/x-python",
   "name": "python",
   "nbconvert_exporter": "python",
   "pygments_lexer": "ipython3",
   "version": "3.6.0"
  }
 },
 "nbformat": 4,
 "nbformat_minor": 2
}
