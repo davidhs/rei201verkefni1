{
 "cells": [
  {
   "cell_type": "markdown",
   "metadata": {
    "deletable": true,
    "editable": true
   },
   "source": [
    "# Verkefni 1\n",
    "\n",
    "Davíð Helgason  (dah38@hi.is)\n",
    "\n",
    "Hieu\n",
    "\n",
    "Hreiðar"
   ]
  },
  {
   "cell_type": "code",
   "execution_count": 1,
   "metadata": {
    "collapsed": true,
    "deletable": true,
    "editable": true
   },
   "outputs": [],
   "source": [
    "%matplotlib inline\n",
    "import matplotlib\n",
    "import numpy as np\n",
    "import matplotlib.pyplot as plt\n",
    "import scipy.ndimage # notum þetta fyrir myndir\n",
    "\n",
    "import datetime # Notað til að mæla tímamismun.\n",
    "import kmeans # Staðbundin skrá, fyrir k-means\n",
    "import math # Stærðfræði\n",
    "import glob # Notað til að finna skrár.\n",
    "\n",
    "# Allt draslið er hér!\n",
    "from prog import *"
   ]
  },
  {
   "cell_type": "markdown",
   "metadata": {
    "deletable": true,
    "editable": true
   },
   "source": [
    "Hugtök\n",
    "* centroid = þungamiðja, þyngdarpunktur, miðpunktur\n",
    "* label = merki"
   ]
  },
  {
   "cell_type": "markdown",
   "metadata": {
    "deletable": true,
    "editable": true
   },
   "source": [
    "Gögnin"
   ]
  },
  {
   "cell_type": "markdown",
   "metadata": {
    "deletable": true,
    "editable": true
   },
   "source": [
    "## Fyrri hluti"
   ]
  },
  {
   "cell_type": "markdown",
   "metadata": {
    "collapsed": true,
    "deletable": true,
    "editable": true
   },
   "source": [
    "Gögnin"
   ]
  },
  {
   "cell_type": "code",
   "execution_count": 17,
   "metadata": {
    "collapsed": false,
    "deletable": true,
    "editable": true
   },
   "outputs": [
    {
     "name": "stdout",
     "output_type": "stream",
     "text": [
      "Signature: 0 , path: _ignore/bundle-17-03-07-224346.157547.npy\n",
      "Signature: 1 , path: _ignore/bundle-17-03-07-224408.291734.npy\n",
      "Signature: 2 , path: _ignore/bundle-17-03-07-225037.329796.npy\n",
      "Signature: 3 , path: _ignore/bundle-17-03-07-225420.328041.npy\n",
      "Signature: 4 , path: _ignore/bundle-17-03-07-225603.055124.npy\n",
      "Signature: 5 , path: _ignore/bundle-17-03-07-225757.550654.npy\n"
     ]
    }
   ],
   "source": [
    "albums = [load_image_as_arr(path) for path in glob.glob('albums/*.jpg')]\n",
    "\n",
    "bundles_album = []\n",
    "for i in range(len(albums)):\n",
    "    bundles_album += [get_best_bundle(glob.glob('_ignore/bundle-*.npy'), str(i), do_filter=True)]\n"
   ]
  },
  {
   "cell_type": "code",
   "execution_count": 20,
   "metadata": {
    "collapsed": false
   },
   "outputs": [],
   "source": [
    "if False:\n",
    "    for album in albums:\n",
    "        display_arr(album)"
   ]
  },
  {
   "cell_type": "markdown",
   "metadata": {
    "collapsed": true,
    "deletable": true,
    "editable": true
   },
   "source": [
    "## Seinni hluti"
   ]
  },
  {
   "cell_type": "markdown",
   "metadata": {
    "deletable": true,
    "editable": true
   },
   "source": [
    "Verkferli\n",
    "\n",
    "* (valfrjálst) skiptum inntakinu í 2 hluti, 90% til þjálfunar og 10% til að prófa\n",
    "* Gera myndirnar (fylkið) tilbúnnar fyrir k-means\n",
    "    * Fáum shape = (N, 28, 28) þar sem N er fjöldi mynda, viljum fá shape = (784, N)\n",
    "    * Hver mynd verður að 784-vigri (28 x 28 = 784)\n",
    "    * Notum:\n",
    "        * reshape\n",
    "        * transpose\n",
    "        * etc..\n",
    "* Þegar myndirnar eru orðnar tilbúnnar keyrum við k-means fyrir\n",
    "    * k = 10, k = 20 og k = 30\n",
    "* Fáum centroid fylki sem er shape (784, k)\n",
    "* Breytum fulltrúunum (centroids) aftur í myndir, fáum k myndir, eina fyrir hvern fulltrúa.\n",
    "* Þurfum að finna út hvaða merki (e. labels) hver þungamiðjupunktur (e. centroid) er fulltrúi fyrir.\n",
    "    * Skoða hvaða myndir tilheyra þyrpingunni.\n",
    "    * Mæla fjarlægðir milli hvers vigurs og þungamiðjupunkts og þannig gefa því merki samkvæmt því.\n",
    "* Nota fulltrúanna til að greina myndirnar í test menginu og mæla villu í prósentum.\n",
    "* Randome-a röðun á myndum?"
   ]
  },
  {
   "cell_type": "code",
   "execution_count": 4,
   "metadata": {
    "collapsed": true
   },
   "outputs": [],
   "source": [
    "A_images = np.load(\"mnist/A_images.npy\")\n",
    "A_labels = np.load(\"mnist/A_labels.npy\")\n",
    "\n",
    "B_images = np.load(\"mnist/B_images.npy\")\n",
    "B_labels = np.load(\"mnist/B_labels.npy\")"
   ]
  },
  {
   "cell_type": "code",
   "execution_count": 16,
   "metadata": {
    "collapsed": false,
    "deletable": true,
    "editable": true
   },
   "outputs": [
    {
     "name": "stdout",
     "output_type": "stream",
     "text": [
      "Signature: 10 , path: _ignore/bundle-17-03-07-225932.831559.npy\n",
      "Signature: 20 , path: _ignore/bundle-17-03-07-230757.999216.npy\n",
      "Signature: 30 , path: None\n"
     ]
    }
   ],
   "source": [
    "bundle10 = get_best_bundle(glob.glob('_ignore/bundle-*.npy'), \"10\", do_filter=True)\n",
    "bundle20 = get_best_bundle(glob.glob('_ignore/bundle-*.npy'), \"20\", do_filter=True)\n",
    "bundle30 = get_best_bundle(glob.glob('_ignore/bundle-*.npy'), \"30\", do_filter=True)\n"
   ]
  },
  {
   "cell_type": "code",
   "execution_count": 6,
   "metadata": {
    "collapsed": false,
    "deletable": true,
    "editable": true
   },
   "outputs": [],
   "source": [
    "if False:\n",
    "    test_bundle(bundle10, A_images, A_labels)"
   ]
  },
  {
   "cell_type": "code",
   "execution_count": 7,
   "metadata": {
    "collapsed": false,
    "deletable": true,
    "editable": true
   },
   "outputs": [],
   "source": [
    "if False:\n",
    "    test_bundle(bundle20, A_images, A_labels)"
   ]
  },
  {
   "cell_type": "code",
   "execution_count": 8,
   "metadata": {
    "collapsed": false,
    "deletable": true,
    "editable": true
   },
   "outputs": [],
   "source": [
    "if False:\n",
    "    test_bundle(bundle30, A_images, A_labels)"
   ]
  },
  {
   "cell_type": "code",
   "execution_count": 9,
   "metadata": {
    "collapsed": false,
    "deletable": true,
    "editable": true
   },
   "outputs": [],
   "source": [
    "# Plot number of iterations and total loss (error) at each point\n",
    "#plt.plot(range(0, len(losses)), losses)\n"
   ]
  },
  {
   "cell_type": "code",
   "execution_count": 10,
   "metadata": {
    "collapsed": false,
    "deletable": true,
    "editable": true
   },
   "outputs": [],
   "source": [
    "#test(bundles[0], the_images, the_labels)"
   ]
  },
  {
   "cell_type": "code",
   "execution_count": 11,
   "metadata": {
    "collapsed": false,
    "deletable": true,
    "editable": true
   },
   "outputs": [],
   "source": [
    "#test(the_images, the_labels, 20)"
   ]
  },
  {
   "cell_type": "code",
   "execution_count": 12,
   "metadata": {
    "collapsed": false,
    "deletable": true,
    "editable": true
   },
   "outputs": [],
   "source": [
    "#test(the_images, the_labels, 30)"
   ]
  },
  {
   "cell_type": "code",
   "execution_count": 13,
   "metadata": {
    "collapsed": false,
    "deletable": true,
    "editable": true
   },
   "outputs": [
    {
     "name": "stdout",
     "output_type": "stream",
     "text": [
      "['_ignore/bundle-17-03-07-224346.157547.npy', '_ignore/bundle-17-03-07-224408.291734.npy', '_ignore/bundle-17-03-07-225037.329796.npy', '_ignore/bundle-17-03-07-225420.328041.npy', '_ignore/bundle-17-03-07-225603.055124.npy', '_ignore/bundle-17-03-07-225757.550654.npy', '_ignore/bundle-17-03-07-225932.831559.npy', '_ignore/bundle-17-03-07-230757.999216.npy']\n"
     ]
    }
   ],
   "source": [
    "bundle_1_paths = glob.glob('_ignore/bundle-*.npy')\n",
    "print(bundle_1_paths)"
   ]
  },
  {
   "cell_type": "code",
   "execution_count": null,
   "metadata": {
    "collapsed": false,
    "deletable": true,
    "editable": true
   },
   "outputs": [],
   "source": []
  },
  {
   "cell_type": "code",
   "execution_count": null,
   "metadata": {
    "collapsed": false,
    "deletable": true,
    "editable": true
   },
   "outputs": [],
   "source": []
  },
  {
   "cell_type": "code",
   "execution_count": 14,
   "metadata": {
    "collapsed": false,
    "deletable": true,
    "editable": true
   },
   "outputs": [
    {
     "name": "stdout",
     "output_type": "stream",
     "text": [
      "Signature: 0 , path: _ignore/bundle-17-03-07-224346.157547.npy\n"
     ]
    }
   ],
   "source": [
    "best_bundle = get_best_bundle(bundle_1_paths, \"0\", do_filter=True)\n",
    "\n",
    "\n"
   ]
  },
  {
   "cell_type": "code",
   "execution_count": null,
   "metadata": {
    "collapsed": true,
    "deletable": true,
    "editable": true
   },
   "outputs": [],
   "source": []
  },
  {
   "cell_type": "markdown",
   "metadata": {
    "collapsed": false,
    "deletable": true,
    "editable": true
   },
   "source": [
    "## Búa til gögn"
   ]
  },
  {
   "cell_type": "markdown",
   "metadata": {
    "deletable": true,
    "editable": true
   },
   "source": [
    "Skoða skránna `generate_data.ipynb`."
   ]
  },
  {
   "cell_type": "code",
   "execution_count": null,
   "metadata": {
    "collapsed": false
   },
   "outputs": [],
   "source": [
    "\n"
   ]
  },
  {
   "cell_type": "code",
   "execution_count": null,
   "metadata": {
    "collapsed": false
   },
   "outputs": [],
   "source": []
  }
 ],
 "metadata": {
  "kernelspec": {
   "display_name": "Python 3",
   "language": "python",
   "name": "python3"
  },
  "language_info": {
   "codemirror_mode": {
    "name": "ipython",
    "version": 3
   },
   "file_extension": ".py",
   "mimetype": "text/x-python",
   "name": "python",
   "nbconvert_exporter": "python",
   "pygments_lexer": "ipython3",
   "version": "3.6.0"
  }
 },
 "nbformat": 4,
 "nbformat_minor": 2
}
